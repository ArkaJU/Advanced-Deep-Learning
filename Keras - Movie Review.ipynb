{
 "cells": [
  {
   "cell_type": "code",
   "execution_count": 1,
   "metadata": {},
   "outputs": [
    {
     "name": "stderr",
     "output_type": "stream",
     "text": [
      "c:\\python36\\lib\\site-packages\\h5py\\__init__.py:36: FutureWarning: Conversion of the second argument of issubdtype from `float` to `np.floating` is deprecated. In future, it will be treated as `np.float64 == np.dtype(float).type`.\n",
      "  from ._conv import register_converters as _register_converters\n"
     ]
    }
   ],
   "source": [
    "import tensorflow as tf\n",
    "from tensorflow import keras\n",
    "import numpy as np"
   ]
  },
  {
   "cell_type": "code",
   "execution_count": 2,
   "metadata": {},
   "outputs": [],
   "source": [
    "imdb = keras.datasets.imdb\n",
    "(train_data, train_labels), (test_data, test_labels) = imdb.load_data(num_words=10000)"
   ]
  },
  {
   "cell_type": "code",
   "execution_count": 3,
   "metadata": {},
   "outputs": [],
   "source": [
    "word_index = imdb.get_word_index()\n",
    "\n",
    "word_index = {k:(v+3) for k,v in word_index.items()}\n",
    "word_index[\"<PAD>\"] = 0\n",
    "word_index[\"<START>\"] = 1\n",
    "word_index[\"<UNK>\"] = 2  # unknown\n",
    "word_index[\"<UNUSED>\"] = 3\n",
    "\n",
    "reverse_word_index = dict([(v,k) for k,v in word_index.items()])\n",
    "\n",
    "def decode_review(text):\n",
    "    return ' '.join([reverse_word_index.get(i, '?') for i in text])"
   ]
  },
  {
   "cell_type": "code",
   "execution_count": 4,
   "metadata": {},
   "outputs": [
    {
     "name": "stdout",
     "output_type": "stream",
     "text": [
      "1\n"
     ]
    }
   ],
   "source": [
    "print(train_labels[10])"
   ]
  },
  {
   "cell_type": "code",
   "execution_count": 5,
   "metadata": {},
   "outputs": [
    {
     "name": "stdout",
     "output_type": "stream",
     "text": [
      "[1, 785, 189, 438, 47, 110, 142, 7, 6, 7475, 120, 4, 236, 378, 7, 153, 19, 87, 108, 141, 17, 1004, 5, 2, 883, 2, 23, 8, 4, 136, 2, 2, 4, 7475, 43, 1076, 21, 1407, 419, 5, 5202, 120, 91, 682, 189, 2818, 5, 9, 1348, 31, 7, 4, 118, 785, 189, 108, 126, 93, 2, 16, 540, 324, 23, 6, 364, 352, 21, 14, 9, 93, 56, 18, 11, 230, 53, 771, 74, 31, 34, 4, 2834, 7, 4, 22, 5, 14, 11, 471, 9, 2, 34, 4, 321, 487, 5, 116, 15, 6584, 4, 22, 9, 6, 2286, 4, 114, 2679, 23, 107, 293, 1008, 1172, 5, 328, 1236, 4, 1375, 109, 9, 6, 132, 773, 2, 1412, 8, 1172, 18, 7865, 29, 9, 276, 11, 6, 2768, 19, 289, 409, 4, 5341, 2140, 2, 648, 1430, 2, 8914, 5, 27, 3000, 1432, 7130, 103, 6, 346, 137, 11, 4, 2768, 295, 36, 7740, 725, 6, 3208, 273, 11, 4, 1513, 15, 1367, 35, 154, 2, 103, 2, 173, 7, 12, 36, 515, 3547, 94, 2547, 1722, 5, 3547, 36, 203, 30, 502, 8, 361, 12, 8, 989, 143, 4, 1172, 3404, 10, 10, 328, 1236, 9, 6, 55, 221, 2989, 5, 146, 165, 179, 770, 15, 50, 713, 53, 108, 448, 23, 12, 17, 225, 38, 76, 4397, 18, 183, 8, 81, 19, 12, 45, 1257, 8, 135, 15, 2, 166, 4, 118, 7, 45, 2, 17, 466, 45, 2, 4, 22, 115, 165, 764, 6075, 5, 1030, 8, 2973, 73, 469, 167, 2127, 2, 1568, 6, 87, 841, 18, 4, 22, 4, 192, 15, 91, 7, 12, 304, 273, 1004, 4, 1375, 1172, 2768, 2, 15, 4, 22, 764, 55, 5773, 5, 14, 4233, 7444, 4, 1375, 326, 7, 4, 4760, 1786, 8, 361, 1236, 8, 989, 46, 7, 4, 2768, 45, 55, 776, 8, 79, 496, 98, 45, 400, 301, 15, 4, 1859, 9, 4, 155, 15, 66, 2, 84, 5, 14, 22, 1534, 15, 17, 4, 167, 2, 15, 75, 70, 115, 66, 30, 252, 7, 618, 51, 9, 2161, 4, 3130, 5, 14, 1525, 8, 6584, 15, 2, 165, 127, 1921, 8, 30, 179, 2532, 4, 22, 9, 906, 18, 6, 176, 7, 1007, 1005, 4, 1375, 114, 4, 105, 26, 32, 55, 221, 11, 68, 205, 96, 5, 4, 192, 15, 4, 274, 410, 220, 304, 23, 94, 205, 109, 9, 55, 73, 224, 259, 3786, 15, 4, 22, 528, 1645, 34, 4, 130, 528, 30, 685, 345, 17, 4, 277, 199, 166, 281, 5, 1030, 8, 30, 179, 4442, 444, 2, 9, 6, 371, 87, 189, 22, 5, 31, 7, 4, 118, 7, 4, 2068, 545, 1178, 829]\n"
     ]
    }
   ],
   "source": [
    "print(train_data[10])"
   ]
  },
  {
   "cell_type": "code",
   "execution_count": 6,
   "metadata": {},
   "outputs": [
    {
     "data": {
      "text/plain": [
       "\"<START> french horror cinema has seen something of a revival over the last couple of years with great films such as inside and <UNK> romance <UNK> on to the scene <UNK> <UNK> the revival just slightly but stands head and shoulders over most modern horror titles and is surely one of the best french horror films ever made <UNK> was obviously shot on a low budget but this is made up for in far more ways than one by the originality of the film and this in turn is <UNK> by the excellent writing and acting that ensure the film is a winner the plot focuses on two main ideas prison and black magic the central character is a man named <UNK> sent to prison for fraud he is put in a cell with three others the quietly insane <UNK> body building <UNK> marcus and his retarded boyfriend daisy after a short while in the cell together they stumble upon a hiding place in the wall that contains an old <UNK> after <UNK> part of it they soon realise its magical powers and realise they may be able to use it to break through the prison walls br br black magic is a very interesting topic and i'm actually quite surprised that there aren't more films based on it as there's so much scope for things to do with it it's fair to say that <UNK> makes the best of it's <UNK> as despite it's <UNK> the film never actually feels restrained and manages to flow well throughout director eric <UNK> provides a great atmosphere for the film the fact that most of it takes place inside the central prison cell <UNK> that the film feels very claustrophobic and this immensely benefits the central idea of the prisoners wanting to use magic to break out of the cell it's very easy to get behind them it's often said that the unknown is the thing that really <UNK> people and this film proves that as the director <UNK> that we can never really be sure of exactly what is round the corner and this helps to ensure that <UNK> actually does manage to be quite frightening the film is memorable for a lot of reasons outside the central plot the characters are all very interesting in their own way and the fact that the book itself almost takes on its own character is very well done anyone worried that the film won't deliver by the end won't be disappointed either as the ending both makes sense and manages to be quite horrifying overall <UNK> is a truly great horror film and one of the best of the decade highly recommended viewing\""
      ]
     },
     "execution_count": 6,
     "metadata": {},
     "output_type": "execute_result"
    }
   ],
   "source": [
    "decode_review(train_data[10])"
   ]
  },
  {
   "cell_type": "code",
   "execution_count": 7,
   "metadata": {},
   "outputs": [],
   "source": [
    "train_data = keras.preprocessing.sequence.pad_sequences(train_data, maxlen=256, padding='post', value=word_index[\"<PAD>\"])\n",
    "test_data = keras.preprocessing.sequence.pad_sequences(test_data, maxlen=256, padding='post', value=word_index[\"<PAD>\"])"
   ]
  },
  {
   "cell_type": "code",
   "execution_count": 8,
   "metadata": {},
   "outputs": [
    {
     "data": {
      "text/plain": [
       "{0, 1}"
      ]
     },
     "execution_count": 8,
     "metadata": {},
     "output_type": "execute_result"
    }
   ],
   "source": [
    "set(train_labels)"
   ]
  },
  {
   "cell_type": "code",
   "execution_count": 9,
   "metadata": {},
   "outputs": [
    {
     "data": {
      "text/plain": [
       "(256, 256)"
      ]
     },
     "execution_count": 9,
     "metadata": {},
     "output_type": "execute_result"
    }
   ],
   "source": [
    "len(train_data[0]), len(train_data[1])"
   ]
  },
  {
   "cell_type": "code",
   "execution_count": 10,
   "metadata": {},
   "outputs": [
    {
     "name": "stdout",
     "output_type": "stream",
     "text": [
      "[   1   14   22   16   43  530  973 1622 1385   65  458 4468   66 3941\n",
      "    4  173   36  256    5   25  100   43  838  112   50  670    2    9\n",
      "   35  480  284    5  150    4  172  112  167    2  336  385   39    4\n",
      "  172 4536 1111   17  546   38   13  447    4  192   50   16    6  147\n",
      " 2025   19   14   22    4 1920 4613  469    4   22   71   87   12   16\n",
      "   43  530   38   76   15   13 1247    4   22   17  515   17   12   16\n",
      "  626   18    2    5   62  386   12    8  316    8  106    5    4 2223\n",
      " 5244   16  480   66 3785   33    4  130   12   16   38  619    5   25\n",
      "  124   51   36  135   48   25 1415   33    6   22   12  215   28   77\n",
      "   52    5   14  407   16   82    2    8    4  107  117 5952   15  256\n",
      "    4    2    7 3766    5  723   36   71   43  530  476   26  400  317\n",
      "   46    7    4    2 1029   13  104   88    4  381   15  297   98   32\n",
      " 2071   56   26  141    6  194 7486   18    4  226   22   21  134  476\n",
      "   26  480    5  144   30 5535   18   51   36   28  224   92   25  104\n",
      "    4  226   65   16   38 1334   88   12   16  283    5   16 4472  113\n",
      "  103   32   15   16 5345   19  178   32    0    0    0    0    0    0\n",
      "    0    0    0    0    0    0    0    0    0    0    0    0    0    0\n",
      "    0    0    0    0    0    0    0    0    0    0    0    0    0    0\n",
      "    0    0    0    0]\n"
     ]
    }
   ],
   "source": [
    "print(train_data[0])"
   ]
  },
  {
   "cell_type": "code",
   "execution_count": 11,
   "metadata": {},
   "outputs": [
    {
     "name": "stdout",
     "output_type": "stream",
     "text": [
      "Train on 20000 samples, validate on 5000 samples\n",
      "Epoch 1/40\n",
      "20000/20000 [==============================] - 2s 77us/step - loss: 0.7038 - acc: 0.4985 - val_loss: 0.6936 - val_acc: 0.5062\n",
      "Epoch 2/40\n",
      "20000/20000 [==============================] - 1s 69us/step - loss: 0.6930 - acc: 0.5308 - val_loss: 0.6928 - val_acc: 0.5430\n",
      "Epoch 3/40\n",
      "20000/20000 [==============================] - 1s 68us/step - loss: 0.6922 - acc: 0.5510 - val_loss: 0.6918 - val_acc: 0.5608\n",
      "Epoch 4/40\n",
      "20000/20000 [==============================] - 1s 67us/step - loss: 0.6903 - acc: 0.5808 - val_loss: 0.6885 - val_acc: 0.5710\n",
      "Epoch 5/40\n",
      "20000/20000 [==============================] - 1s 67us/step - loss: 0.6863 - acc: 0.5296 - val_loss: 0.6832 - val_acc: 0.5832\n",
      "Epoch 6/40\n",
      "20000/20000 [==============================] - 1s 67us/step - loss: 0.6806 - acc: 0.5730 - val_loss: 0.6765 - val_acc: 0.5954\n",
      "Epoch 7/40\n",
      "20000/20000 [==============================] - 1s 67us/step - loss: 0.6729 - acc: 0.6359 - val_loss: 0.6679 - val_acc: 0.6698\n",
      "Epoch 8/40\n",
      "20000/20000 [==============================] - 1s 68us/step - loss: 0.6633 - acc: 0.7068 - val_loss: 0.6575 - val_acc: 0.6934\n",
      "Epoch 9/40\n",
      "20000/20000 [==============================] - 1s 68us/step - loss: 0.6515 - acc: 0.7221 - val_loss: 0.6448 - val_acc: 0.7052\n",
      "Epoch 10/40\n",
      "20000/20000 [==============================] - 1s 68us/step - loss: 0.6373 - acc: 0.7451 - val_loss: 0.6299 - val_acc: 0.7392\n",
      "Epoch 11/40\n",
      "20000/20000 [==============================] - 1s 67us/step - loss: 0.6204 - acc: 0.7692 - val_loss: 0.6096 - val_acc: 0.7610\n",
      "Epoch 12/40\n",
      "20000/20000 [==============================] - 1s 68us/step - loss: 0.5914 - acc: 0.8114 - val_loss: 0.5780 - val_acc: 0.8036\n",
      "Epoch 13/40\n",
      "20000/20000 [==============================] - 1s 69us/step - loss: 0.5569 - acc: 0.8277 - val_loss: 0.5448 - val_acc: 0.8134s: 0.5618 - acc: \n",
      "Epoch 14/40\n",
      "20000/20000 [==============================] - 1s 68us/step - loss: 0.5210 - acc: 0.8372 - val_loss: 0.5111 - val_acc: 0.8222\n",
      "Epoch 15/40\n",
      "20000/20000 [==============================] - 1s 68us/step - loss: 0.4847 - acc: 0.8483 - val_loss: 0.4794 - val_acc: 0.8324\n",
      "Epoch 16/40\n",
      "20000/20000 [==============================] - 1s 68us/step - loss: 0.4505 - acc: 0.8592 - val_loss: 0.4507 - val_acc: 0.8424\n",
      "Epoch 17/40\n",
      "20000/20000 [==============================] - 1s 68us/step - loss: 0.4200 - acc: 0.8653 - val_loss: 0.4260 - val_acc: 0.8492\n",
      "Epoch 18/40\n",
      "20000/20000 [==============================] - 1s 67us/step - loss: 0.3933 - acc: 0.8722 - val_loss: 0.4056 - val_acc: 0.8530\n",
      "Epoch 19/40\n",
      "20000/20000 [==============================] - 1s 70us/step - loss: 0.3709 - acc: 0.8751 - val_loss: 0.3882 - val_acc: 0.8604\n",
      "Epoch 20/40\n",
      "20000/20000 [==============================] - 1s 70us/step - loss: 0.3512 - acc: 0.8824 - val_loss: 0.3739 - val_acc: 0.8634\n",
      "Epoch 21/40\n",
      "20000/20000 [==============================] - 1s 69us/step - loss: 0.3344 - acc: 0.8862 - val_loss: 0.3623 - val_acc: 0.8628\n",
      "Epoch 22/40\n",
      "20000/20000 [==============================] - 1s 69us/step - loss: 0.3206 - acc: 0.8891 - val_loss: 0.3524 - val_acc: 0.8678\n",
      "Epoch 23/40\n",
      "20000/20000 [==============================] - 1s 69us/step - loss: 0.3075 - acc: 0.8926 - val_loss: 0.3437 - val_acc: 0.8668\n",
      "Epoch 24/40\n",
      "20000/20000 [==============================] - 1s 69us/step - loss: 0.2965 - acc: 0.8962 - val_loss: 0.3363 - val_acc: 0.8692\n",
      "Epoch 25/40\n",
      "20000/20000 [==============================] - 1s 70us/step - loss: 0.2858 - acc: 0.8995 - val_loss: 0.3302 - val_acc: 0.8732\n",
      "Epoch 26/40\n",
      "20000/20000 [==============================] - 1s 68us/step - loss: 0.2768 - acc: 0.9027 - val_loss: 0.3256 - val_acc: 0.8728\n",
      "Epoch 27/40\n",
      "20000/20000 [==============================] - 1s 68us/step - loss: 0.2683 - acc: 0.9052 - val_loss: 0.3192 - val_acc: 0.8744\n",
      "Epoch 28/40\n",
      "20000/20000 [==============================] - 1s 69us/step - loss: 0.2600 - acc: 0.9092 - val_loss: 0.3148 - val_acc: 0.8758\n",
      "Epoch 29/40\n",
      "20000/20000 [==============================] - 1s 68us/step - loss: 0.2527 - acc: 0.9104 - val_loss: 0.3116 - val_acc: 0.8760\n",
      "Epoch 30/40\n",
      "20000/20000 [==============================] - 1s 68us/step - loss: 0.2457 - acc: 0.9123 - val_loss: 0.3074 - val_acc: 0.8788\n",
      "Epoch 31/40\n",
      "20000/20000 [==============================] - 1s 69us/step - loss: 0.2404 - acc: 0.9149 - val_loss: 0.3045 - val_acc: 0.8788\n",
      "Epoch 32/40\n",
      "20000/20000 [==============================] - 1s 70us/step - loss: 0.2338 - acc: 0.9164 - val_loss: 0.3019 - val_acc: 0.8800\n",
      "Epoch 33/40\n",
      "20000/20000 [==============================] - 1s 70us/step - loss: 0.2277 - acc: 0.9191 - val_loss: 0.2994 - val_acc: 0.8810\n",
      "Epoch 34/40\n",
      "20000/20000 [==============================] - 1s 71us/step - loss: 0.2224 - acc: 0.9219 - val_loss: 0.2972 - val_acc: 0.8818\n",
      "Epoch 35/40\n",
      "20000/20000 [==============================] - 1s 70us/step - loss: 0.2176 - acc: 0.9225 - val_loss: 0.2957 - val_acc: 0.8818\n",
      "Epoch 36/40\n",
      "20000/20000 [==============================] - 1s 69us/step - loss: 0.2124 - acc: 0.9244 - val_loss: 0.2931 - val_acc: 0.8842\n",
      "Epoch 37/40\n",
      "20000/20000 [==============================] - 1s 73us/step - loss: 0.2075 - acc: 0.9264 - val_loss: 0.2920 - val_acc: 0.8844\n",
      "Epoch 38/40\n",
      "20000/20000 [==============================] - 1s 67us/step - loss: 0.2030 - acc: 0.9283 - val_loss: 0.2905 - val_acc: 0.8854\n",
      "Epoch 39/40\n",
      "20000/20000 [==============================] - 1s 65us/step - loss: 0.1986 - acc: 0.9301 - val_loss: 0.2897 - val_acc: 0.8850\n",
      "Epoch 40/40\n",
      "20000/20000 [==============================] - 1s 66us/step - loss: 0.1944 - acc: 0.9318 - val_loss: 0.2884 - val_acc: 0.8848\n"
     ]
    }
   ],
   "source": [
    "vocab_size = 10000\n",
    "\n",
    "model = keras.Sequential()\n",
    "model.add(keras.layers.Embedding(vocab_size, 16))\n",
    "model.add(keras.layers.GlobalAveragePooling1D())\n",
    "model.add(keras.layers.Dense(16, activation=tf.nn.relu))\n",
    "model.add(keras.layers.Dense(1, activation=tf.nn.sigmoid))\n",
    "model.compile(optimizer=tf.train.AdamOptimizer(), loss='binary_crossentropy', metrics=['accuracy'])\n",
    "\n",
    "history = model.fit(train_data, train_labels, epochs=40, batch_size=512, validation_split=0.2)"
   ]
  },
  {
   "cell_type": "code",
   "execution_count": 12,
   "metadata": {},
   "outputs": [
    {
     "name": "stdout",
     "output_type": "stream",
     "text": [
      "25000/25000 [==============================] - 1s 24us/step\n",
      "0.87728\n"
     ]
    }
   ],
   "source": [
    "loss, acc = model.evaluate(test_data, test_labels)\n",
    "print(acc)"
   ]
  },
  {
   "cell_type": "code",
   "execution_count": 13,
   "metadata": {},
   "outputs": [
    {
     "data": {
      "text/plain": [
       "dict_keys(['val_loss', 'val_acc', 'loss', 'acc'])"
      ]
     },
     "execution_count": 13,
     "metadata": {},
     "output_type": "execute_result"
    }
   ],
   "source": [
    "history_dict = history.history\n",
    "history_dict.keys()"
   ]
  },
  {
   "cell_type": "code",
   "execution_count": 16,
   "metadata": {},
   "outputs": [
    {
     "data": {
      "image/png": "[encoded data removed]",
      "text/plain": [
       "<Figure size 432x288 with 1 Axes>"
      ]
     },
     "metadata": {},
     "output_type": "display_data"
    }
   ],
   "source": [
    "import matplotlib.pyplot as plt\n",
    "\n",
    "acc = history.history[\"acc\"]\n",
    "loss = history.history[\"loss\"]\n",
    "val_loss = history.history[\"val_loss\"]\n",
    "val_acc = history.history[\"val_acc\"]\n",
    "\n",
    "epochs = range(1, len(acc)+1)\n",
    "plt.plot(epochs, val_loss, 'k', label='Validation loss')\n",
    "plt.plot(epochs, loss, 'ko', label='Training loss')\n",
    "plt.title(\"Losses\")\n",
    "plt.xlabel(\"Epochs\")\n",
    "plt.ylabel(\"Loss\")\n",
    "plt.legend()\n",
    "\n",
    "plt.show()"
   ]
  },
  {
   "cell_type": "code",
   "execution_count": 15,
   "metadata": {},
   "outputs": [
    {
     "data": {
      "image/png": "[encoded data removed]",
      "text/plain": [
       "<Figure size 432x288 with 1 Axes>"
      ]
     },
     "metadata": {},
     "output_type": "display_data"
    }
   ],
   "source": [
    "plt.clf()   # clear figure\n",
    "acc_values = history_dict['acc']\n",
    "val_acc_values = history_dict['val_acc']\n",
    "plt.plot(epochs, acc, 'ro', label='Training acc')\n",
    "plt.plot(epochs, val_acc, 'r', label='Validation acc')\n",
    "plt.title('Training and validation accuracy')\n",
    "plt.xlabel('Epochs')\n",
    "plt.ylabel('Loss')\n",
    "plt.legend()\n",
    "\n",
    "plt.show()"
   ]
  }
 ],
 "metadata": {
  "kernelspec": {
   "display_name": "Python 3",
   "language": "python",
   "name": "python3"
  },
  "language_info": {
   "codemirror_mode": {
    "name": "ipython",
    "version": 3
   },
   "file_extension": ".py",
   "mimetype": "text/x-python",
   "name": "python",
   "nbconvert_exporter": "python",
   "pygments_lexer": "ipython3",
   "version": "3.6.5"
  }
 },
 "nbformat": 4,
 "nbformat_minor": 2
}
